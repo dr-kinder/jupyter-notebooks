{
 "cells": [
  {
   "cell_type": "markdown",
   "metadata": {},
   "source": [
    "# Sample Code\n",
    "\n",
    "Run this script. Edit it and make it your own."
   ]
  },
  {
   "cell_type": "code",
   "execution_count": null,
   "metadata": {},
   "outputs": [],
   "source": [
    "\n",
    "# streamlines.py\n",
    "# -------------------------------------------------------------------------\n",
    "# Create streamlines from a vector field.\n",
    "# ------------------------------------------------------------------------- \n",
    "import numpy as np\n",
    "import matplotlib.pyplot as plt\n",
    "\n",
    "# generate grid of points\n",
    "lower, upper, step = -2, 2, 0.1\n",
    "coords = np.arange(lower, upper+step, step)\n",
    "X, Y = np.meshgrid(coords, coords)\n",
    "\n",
    "# define vector field\n",
    "Vx, Vy = Y, -X\n",
    "\n",
    "# display streamlines defined by vector field\n",
    "plt.figure()\n",
    "plt.streamplot(coords, coords, Vx, Vy)\n",
    "plt.axis('square')\n",
    "plt.show()\n"
   ]
  }
 ],
 "nbformat": 4,
 "nbformat_minor": 5,
 "metadata": {}
}
