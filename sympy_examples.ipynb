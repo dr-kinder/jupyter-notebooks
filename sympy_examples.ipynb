{
 "cells": [
  {
   "cell_type": "markdown",
   "metadata": {},
   "source": [
    "# Sample Code\n",
    "\n",
    "Run this script. Edit it and make it your own."
   ]
  },
  {
   "cell_type": "code",
   "execution_count": null,
   "metadata": {},
   "outputs": [],
   "source": [
    "\n",
    "# sympy_examples.py\n",
    "# -------------------------------------------------------------------------\n",
    "# Demonstrate some useful methods available in the SymPy module.\n",
    "# ------------------------------------------------------------------------- \n",
    "from sympy import *\n",
    "init_session()\n",
    "\n",
    "expand( (x + y)**5 )\n",
    "factor( x**6 - 1 )\n",
    "pi.n(100)\n",
    "plot(besselj(0, x), besselj(1, x), (x, 0, 10))\n",
    "diff( x*sin(y), x, y )\n",
    "integrate(cos(x)**2, x)\n",
    "integrate(exp(-x**2), (x, -oo, oo))\n",
    "Sum(k**3, (k, 0, m)).doit().factor()\n",
    "dsolve(f(x).diff(x) + f(x) - x, f(x)).simplify()\n"
   ]
  }
 ],
 "nbformat": 4,
 "nbformat_minor": 5,
 "metadata": {}
}
