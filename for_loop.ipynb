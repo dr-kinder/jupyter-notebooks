{
 "cells": [
  {
   "cell_type": "markdown",
   "metadata": {},
   "source": [
    "# Sample Code\n",
    "\n",
    "Run this script. Edit it and make it your own."
   ]
  },
  {
   "cell_type": "code",
   "execution_count": null,
   "metadata": {},
   "outputs": [],
   "source": [
    "\n",
    "# for_loop.py\n",
    "# -------------------------------------------------------------------------\n",
    "# Use a for loop to generate multiple solutions to the quadratic equation.\n",
    "# ------------------------------------------------------------------------- \n",
    "import numpy as np\n",
    "\n",
    "b, c = 2, -1\n",
    "for a in np.arange(-1, 2, 0.3):\n",
    "    x = (-b + np.sqrt(b**2 - 4*a*c)) / (2*a)\n",
    "    print(\"a= {:.4f}, x= {:.4f}\".format(a,x))\n"
   ]
  }
 ],
 "nbformat": 4,
 "nbformat_minor": 5,
 "metadata": {}
}
