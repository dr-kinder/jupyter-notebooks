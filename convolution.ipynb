{
 "cells": [
  {
   "cell_type": "markdown",
   "metadata": {},
   "source": [
    "# Sample Code\n",
    "\n",
    "Run this script. Edit it and make it your own."
   ]
  },
  {
   "cell_type": "code",
   "execution_count": null,
   "metadata": {},
   "outputs": [],
   "source": [
    "\n",
    "# convolution.py\n",
    "# -------------------------------------------------------------------------\n",
    "# This script creates an eLoG (elongated Laplacian of Gaussian) filter that\n",
    "# emphasizes long, vertical lines in a figure.  The effect of the filter is\n",
    "# demonstrated on a plus sign.\n",
    "# ------------------------------------------------------------------------- \n",
    "import numpy as np\n",
    "import matplotlib.pyplot as plt\n",
    "import scipy.ndimage as sim\n",
    "\n",
    "#%% Create a grid of points for the Gaussian filter.\n",
    "v = np.arange(-25, 26)\n",
    "X, Y = np.meshgrid(v, v)\n",
    "\n",
    "#%% Create elongated Gaussian filter, apply Laplacian.\n",
    "gauss_filter = np.exp(-0.5*(X**2/2 + Y**2/45))\n",
    "laplace_filter = np.array( [[0, -1, 0], [-1, 4, -1], [0, -1, 0]])\n",
    "combined_filter  = sim.convolve(gauss_filter, laplace_filter)\n",
    "\n",
    "#%% Create a plus sign '+' to demonstrate effect of filter.\n",
    "plus = np.zeros((51, 51))\n",
    "plus[23:28, 25] = 1.0\n",
    "plus[25, 23:28] = 1.0\n",
    "\n",
    "plt.figure()\n",
    "plt.imshow(plus)\n",
    "plt.gray()\n",
    "\n",
    "#%% Apply filter to '+' and display resulting image.\n",
    "#   Use vmin/vmax to emphasize features within a restricted range of intensity.\n",
    "cplus = sim.convolve(plus, combined_filter)\n",
    "\n",
    "plt.figure()\n",
    "plt.imshow(cplus, vmin=0, vmax=0.5*cplus.max())\n",
    "plt.gray()\n",
    "\n",
    "plt.show()\n"
   ]
  }
 ],
 "nbformat": 4,
 "nbformat_minor": 5,
 "metadata": {}
}
