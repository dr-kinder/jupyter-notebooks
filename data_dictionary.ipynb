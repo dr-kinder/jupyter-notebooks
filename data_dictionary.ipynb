{
 "cells": [
  {
   "cell_type": "markdown",
   "metadata": {},
   "source": [
    "# Sample Code\n",
    "\n",
    "Run this script. Edit it and make it your own."
   ]
  },
  {
   "cell_type": "code",
   "execution_count": null,
   "metadata": {},
   "outputs": [],
   "source": [
    "\n",
    "# data_dictionary.py\n",
    "# -------------------------------------------------------------------------\n",
    "# Store input and data two different simulations in a dictionary.\n",
    "# This script requires first_passage.py to be in the same directory.\n",
    "# -------------------------------------------------------------------------\n",
    "from first_passage import first_passage\n",
    "\n",
    "data = {}       # empty dictionary to store all data\n",
    "data['A'] = {}  # empty dictionary within data to store Simulation A\n",
    "data['B'] = {}  # empty dictionary within data to store Simulation B\n",
    "\n",
    "#%% Define and run simulations.\n",
    "samples = 500\n",
    "\n",
    "data['A']['input'] = dict(N=1000, L=10, p=0.5)\n",
    "data['A']['results'] = \\\n",
    "    [ first_passage(**data['A']['input']) for n in range(samples) ]\n",
    "\n",
    "data['B']['input'] = dict(N=1000, L=20, p=0.5)\n",
    "data['B']['results'] = \\\n",
    "    [ first_passage(**data['B']['input']) for n in range(samples) ]\n",
    "\n",
    "#%% Run more simulations.  Use \"+=\" to append new list to old.\n",
    "data['A']['results'] += \\\n",
    "    [ first_passage(**data['A']['input']) for n in range(samples) ]\n",
    "\n",
    "data['B']['results'] += \\\n",
    "    [ first_passage(**data['B']['input']) for n in range(samples) ]\n"
   ]
  }
 ],
 "nbformat": 4,
 "nbformat_minor": 5,
 "metadata": {}
}
