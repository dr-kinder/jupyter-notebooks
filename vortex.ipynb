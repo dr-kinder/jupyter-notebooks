{
 "cells": [
  {
   "cell_type": "markdown",
   "metadata": {},
   "source": [
    "# Sample Code\n",
    "\n",
    "Run this script. Edit it and make it your own."
   ]
  },
  {
   "cell_type": "code",
   "execution_count": null,
   "metadata": {},
   "outputs": [],
   "source": [
    "\n",
    "# vortex.py  \n",
    "# -------------------------------------------------------------------------\n",
    "# Create a quiver plot.\n",
    "# ------------------------------------------------------------------------- \n",
    "import numpy as np\n",
    "import matplotlib.pyplot as plt\n",
    "\n",
    "coords = np.linspace(-1, 1, 11)\n",
    "X, Y = np.meshgrid(coords, coords)\n",
    "Vx, Vy = Y, -X\n",
    "\n",
    "plt.figure()\n",
    "# pivot='mid' places centers of arrows on grid points\n",
    "plt.quiver(X, Y, Vx, Vy, pivot='mid')\n",
    "plt.axis('square')\n",
    "plt.show()\n"
   ]
  }
 ],
 "nbformat": 4,
 "nbformat_minor": 5,
 "metadata": {}
}
