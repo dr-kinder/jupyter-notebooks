{
 "cells": [
  {
   "cell_type": "markdown",
   "metadata": {},
   "source": [
    "# Sample Code\n",
    "\n",
    "Run this script. Edit it and make it your own."
   ]
  },
  {
   "cell_type": "code",
   "execution_count": null,
   "metadata": {},
   "outputs": [],
   "source": [
    "\n",
    "# fancy_plot.py\n",
    "# -------------------------------------------------------------------------\n",
    "# Add a title and axis labels to a simple plot.\n",
    "# ------------------------------------------------------------------------- \n",
    "import numpy as np\n",
    "import matplotlib.pyplot as plt\n",
    "\n",
    "x_min, x_max = -4, 4\n",
    "num_points = 51\n",
    "x_list = np.linspace(x_min, x_max, num_points)\n",
    "y_list = x_list**2\n",
    "\n",
    "plt.figure()\n",
    "plt.plot(x_list, y_list, 'r', linewidth=3)\n",
    "\n",
    "ax = plt.gca()\n",
    "ax.set_title(\"A Second Order Polynomial\", fontsize=16)\n",
    "ax.set_xlabel(\"$x$\", fontsize=24)\n",
    "ax.set_ylabel(\"$y = x^2$\", fontsize=24)\n",
    "\n",
    "plt.show()\n"
   ]
  }
 ],
 "nbformat": 4,
 "nbformat_minor": 5,
 "metadata": {}
}
