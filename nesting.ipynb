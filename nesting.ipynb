{
 "cells": [
  {
   "cell_type": "markdown",
   "metadata": {},
   "source": [
    "# Sample Code\n",
    "\n",
    "Run this script. Edit it and make it your own."
   ]
  },
  {
   "cell_type": "code",
   "execution_count": null,
   "metadata": {},
   "outputs": [],
   "source": [
    "\n",
    "# nesting.py\n",
    "# -------------------------------------------------------------------------\n",
    "# Use nested for loops to fill a two-dimensional array of values.\n",
    "# ------------------------------------------------------------------------- \n",
    "import numpy as np\n",
    "\n",
    "# Set dimensions of array.\n",
    "rows = 3\n",
    "columns = 4\n",
    "\n",
    "# Create empty array then fill with values.\n",
    "A = np.zeros((rows, columns))\n",
    "for i in range(rows):\n",
    "    for j in range(columns):\n",
    "        A[i, j] = i**2 + j**3\n"
   ]
  }
 ],
 "nbformat": 4,
 "nbformat_minor": 5,
 "metadata": {}
}
