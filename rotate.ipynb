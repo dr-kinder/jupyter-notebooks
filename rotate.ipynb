{
 "cells": [
  {
   "cell_type": "markdown",
   "metadata": {},
   "source": [
    "# Sample Code\n",
    "\n",
    "Run this script. Edit it and make it your own."
   ]
  },
  {
   "cell_type": "code",
   "execution_count": null,
   "metadata": {},
   "outputs": [],
   "source": [
    "\n",
    "# rotate.py\n",
    "# -------------------------------------------------------------------------\n",
    "# Define function to rotate a vector in two dimensions.\n",
    "# ------------------------------------------------------------------------- \n",
    "import numpy as np\n",
    "\n",
    "def rotate_vector(vector, angle):\n",
    "    \"\"\"\n",
    "    Rotate two-dimensional vector through given angle.\n",
    "        vector = (x,y)\n",
    "        angle = rotation angle in radians (counterclockwise)\n",
    "    Returns the image of vector under rotation as a NumPy array.\n",
    "    \"\"\"\n",
    "    rotation_matrix = np.array([[ np.cos(angle), -np.sin(angle) ],\n",
    "                                [ np.sin(angle),  np.cos(angle) ]])\n",
    "    return np.dot(rotation_matrix, vector)\n"
   ]
  }
 ],
 "nbformat": 4,
 "nbformat_minor": 5,
 "metadata": {}
}
