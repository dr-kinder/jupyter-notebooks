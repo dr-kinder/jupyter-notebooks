{
 "cells": [
  {
   "cell_type": "markdown",
   "metadata": {},
   "source": [
    "# Sample Code\n",
    "\n",
    "Run this script. Edit it and make it your own."
   ]
  },
  {
   "cell_type": "code",
   "execution_count": null,
   "metadata": {},
   "outputs": [],
   "source": [
    "\n",
    "# average.py\n",
    "# -------------------------------------------------------------------------\n",
    "# Compute and return the cummulative average of an array.\n",
    "# ------------------------------------------------------------------------- \n",
    "import numpy as np\n",
    "\n",
    "def running_average(x):\n",
    "    \"\"\"\n",
    "    Return cummulative average of an array.\n",
    "    \"\"\"\n",
    "    y = np.zeros(len(x))                    # new array to store result\n",
    "    current_sum = 0.0                       # running sum of elements of x\n",
    "    for i in range(len(x)):\n",
    "        current_sum += x[i]                 # increment sum\n",
    "        y[i] = current_sum / (i + 1.0)      # update running average\n",
    "    return y\n"
   ]
  }
 ],
 "nbformat": 4,
 "nbformat_minor": 5,
 "metadata": {}
}
