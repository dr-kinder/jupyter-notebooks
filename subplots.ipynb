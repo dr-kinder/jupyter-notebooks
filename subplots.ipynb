{
 "cells": [
  {
   "cell_type": "markdown",
   "metadata": {},
   "source": [
    "# Sample Code\n",
    "\n",
    "Run this script. Edit it and make it your own."
   ]
  },
  {
   "cell_type": "code",
   "execution_count": null,
   "metadata": {},
   "outputs": [],
   "source": [
    "\n",
    "# subplot.py\n",
    "# -------------------------------------------------------------------------\n",
    "# Create four plots in the same figure using plt.subplots().\n",
    "# ------------------------------------------------------------------------- \n",
    "import numpy as np\n",
    "import matplotlib.pyplot as plt\n",
    "from numpy.random import random\n",
    "\n",
    "t = np.linspace(0, 1, 101)\n",
    "\n",
    "# Create Figure and Axes objects.\n",
    "fig, ax = plt.subplots(2,2)\n",
    "\n",
    "# Use methods of Axes objects to add subplots.\n",
    "ax[0,0].hist(random(20))                      # Upper left\n",
    "ax[0,1].plot(t, t**2, t, t**3 - t)            # Upper right\n",
    "ax[1,0].plot(random(20), random(20), 'r*')    # Lower left\n",
    "ax[1,1].plot(t*np.cos(10*t), t*np.sin(10*t))  # Lower right\n",
    "fig.suptitle(\"Data and Functions\")            # Entire plot\n",
    "\n",
    "plt.show()\n"
   ]
  }
 ],
 "nbformat": 4,
 "nbformat_minor": 5,
 "metadata": {}
}
