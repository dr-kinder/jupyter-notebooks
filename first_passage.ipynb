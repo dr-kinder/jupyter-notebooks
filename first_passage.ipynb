{
 "cells": [
  {
   "cell_type": "markdown",
   "metadata": {},
   "source": [
    "# Sample Code\n",
    "\n",
    "Run this script. Edit it and make it your own."
   ]
  },
  {
   "cell_type": "code",
   "execution_count": null,
   "metadata": {},
   "outputs": [],
   "source": [
    "\n",
    "# first_passage.py\n",
    "# -------------------------------------------------------------------------\n",
    "# Define a function to simulate first passage of a random walker.\n",
    "# ------------------------------------------------------------------------- \n",
    "import numpy as np\n",
    "\n",
    "def first_passage(N, L, p=0.5, message=False):\n",
    "    \"\"\"\n",
    "    Simulate a random walker that starts at the origin and takes steps to the\n",
    "    right with probability p and to the left with probability 1-p.\n",
    "\n",
    "    Return the number of steps for the first passage of location x==L,\n",
    "    or give up after N steps and return np.nan.\n",
    "\n",
    "    Use message=True to display the results on screen.\n",
    "    \"\"\"\n",
    "    rng = np.random.default_rng()     # create a random number generator\n",
    "    dx = 2*(rng.random(N) < p) - 1    # generate individual steps\n",
    "    x = np.cumsum(dx)                 # compute location after each step\n",
    "    at_target = np.nonzero(x==L)[0]   # find indices where x == L\n",
    "\n",
    "    if at_target.size > 0:\n",
    "        n = at_target[0] + 1\n",
    "        if message:\n",
    "            print(\"First passage of x={} occurred after {} steps.\".format(L, n))\n",
    "        return n\n",
    "    else:\n",
    "        if message:\n",
    "            print(\"Did not reach x={} after {} steps.\".format(L, N))\n",
    "        return np.nan\n"
   ]
  }
 ],
 "nbformat": 4,
 "nbformat_minor": 5,
 "metadata": {}
}
