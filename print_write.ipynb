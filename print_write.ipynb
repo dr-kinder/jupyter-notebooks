{
 "cells": [
  {
   "cell_type": "markdown",
   "metadata": {},
   "source": [
    "# Sample Code\n",
    "\n",
    "Run this script. Edit it and make it your own."
   ]
  },
  {
   "cell_type": "code",
   "execution_count": null,
   "metadata": {},
   "outputs": [],
   "source": [
    "\n",
    "# print_write.py\n",
    "# -------------------------------------------------------------------------\n",
    "# Write same data to a file and print to display.\n",
    "# ------------------------------------------------------------------------- \n",
    "f = open('power.txt','w')\n",
    "\n",
    "print(\" N \\t\\t2**N\\t\\t3**N\")        # print labels for columns\n",
    "f.write(\" N \\t\\t2**N\\t\\t3**N\\n\")    # write labels to file\n",
    "print(\"---\\t\\t----\\t\\t----\")        # print separator\n",
    "f.write(\"---\\t\\t----\\t\\t----\\n\")    # write separator to file\n",
    "\n",
    "#%% loop over integers from 0 to 10 and print/write results\n",
    "for N in range(11):\n",
    "    print(\"{:d}\\t\\t{:d}\\t\\t{:d}\".format(N, pow(2,N), pow(3,N)))\n",
    "    f.write(\"{:d}\\t\\t{:d}\\t\\t{:d}\\n\".format(N, pow(2,N), pow(3,N)))\n",
    "f.close()\n"
   ]
  }
 ],
 "nbformat": 4,
 "nbformat_minor": 5,
 "metadata": {}
}
