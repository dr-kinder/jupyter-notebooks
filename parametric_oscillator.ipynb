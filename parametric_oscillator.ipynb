{
 "cells": [
  {
   "cell_type": "markdown",
   "metadata": {},
   "source": [
    "# Sample Code\n",
    "\n",
    "Run this script. Edit it and make it your own."
   ]
  },
  {
   "cell_type": "code",
   "execution_count": null,
   "metadata": {},
   "outputs": [],
   "source": [
    "\n",
    "# parametric_oscillator.py\n",
    "# -------------------------------------------------------------------------\n",
    "# Define a parametric function that accepts 4 parameters then integrate it\n",
    "# using odeint.\n",
    "# ------------------------------------------------------------------------- \n",
    "import numpy as np\n",
    "from scipy.integrate import odeint\n",
    "\n",
    "def F(y, t, spring_constant=1.0, mass=1.0):\n",
    "    \"\"\"\n",
    "    Return derivatives for harmonic oscillator:\n",
    "        y'' = -(k/m) * y\n",
    "    y = displacement in [m]\n",
    "    k = spring_constant in [N/m]\n",
    "    m = mass in [kg]\n",
    "    \"\"\"\n",
    "    dy = [0, 0]         # array to store derivatives\n",
    "    dy[0] = y[1]        \n",
    "    dy[1] = -(spring_constant/mass) * y[0]  \n",
    "    return dy\n",
    "\n",
    "# -------------------------------------------------------------------------\n",
    "# Integrate parametric function using two different methods.\n",
    "# ------------------------------------------------------------------------- \n",
    "y0 = (1.0, 0.0)                     # initial conditions\n",
    "t = np.linspace(0, 10, 101)         # times at which y(t) will be evaluated\n",
    "\n",
    "# Method 1 -- dummy function\n",
    "def G(y, t): return F(y, t, 2.0, 0.5)\n",
    "yA = odeint(G, y0, t)\n",
    "\n",
    "# Method 2 -- keywords\n",
    "yB = odeint(F, y0, t, args=(2.0, 0.5))\n"
   ]
  }
 ],
 "nbformat": 4,
 "nbformat_minor": 5,
 "metadata": {}
}
