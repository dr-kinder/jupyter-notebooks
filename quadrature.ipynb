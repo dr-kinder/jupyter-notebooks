{
 "cells": [
  {
   "cell_type": "markdown",
   "metadata": {},
   "source": [
    "# Sample Code\n",
    "\n",
    "Run this script. Edit it and make it your own."
   ]
  },
  {
   "cell_type": "code",
   "execution_count": null,
   "metadata": {},
   "outputs": [],
   "source": [
    "\n",
    "# quadrature.py\n",
    "# -------------------------------------------------------------------------\n",
    "# Integrate two functions using quad.\n",
    "# ------------------------------------------------------------------------- \n",
    "import numpy as np\n",
    "from scipy.integrate import quad\n",
    "\n",
    "#%% Integrate a built-in function.\n",
    "upper_limit = np.linspace(0,3*np.pi,16)\n",
    "cos_integral = np.zeros(upper_limit.size)\n",
    "for i in range(upper_limit.size):\n",
    "    cos_integral[i], error = quad(np.cos, 0, upper_limit[i])\n",
    "\n",
    "#%% Now integrate a user-defined function.\n",
    "def integrand(x): return np.exp(-x**2/2)\n",
    "\n",
    "upper_limit = np.linspace(0, 5, 51)\n",
    "gauss_integral = np.zeros(upper_limit.size)\n",
    "for i in range(upper_limit.size):\n",
    "    gauss_integral[i], error = quad(integrand, 0, upper_limit[i])\n"
   ]
  }
 ],
 "nbformat": 4,
 "nbformat_minor": 5,
 "metadata": {}
}
