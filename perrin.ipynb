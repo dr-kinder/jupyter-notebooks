{
 "cells": [
  {
   "cell_type": "markdown",
   "metadata": {},
   "source": [
    "# Sample Code\n",
    "\n",
    "Run this script. Edit it and make it your own."
   ]
  },
  {
   "cell_type": "code",
   "execution_count": null,
   "metadata": {},
   "outputs": [],
   "source": [
    "\n",
    "# perrin.py\n",
    "# -------------------------------------------------------------------------\n",
    "# Generate figure displaying Perrin's experimental data on Brownian motion.\n",
    "# This script requires the data set 04brownian/g26perrindata.npy.\n",
    "# ------------------------------------------------------------------------- \n",
    "import numpy as np\n",
    "import matplotlib.pyplot as plt\n",
    "\n",
    "data = np.load('g26perrindata.npy')\n",
    "\n",
    "plt.figure(figsize=(10,10))\n",
    "plt.plot(data[:,0], data[:,1], 'b.', ms=16)\n",
    "plt.axis([-20,20,-20,20])\n",
    "plt.grid(b=True,which='major',ls='-',lw=1.5,c='g')\n",
    "plt.xlabel(r'$\\Delta x$ [$\\mu$m]', fontsize=24)\n",
    "plt.ylabel(r'$\\Delta y$ [$\\mu$m]', fontsize=24)\n",
    "ax=plt.gca()\n",
    "ax.set_xticklabels(ax.get_xticks(), weight='bold', fontsize=16)\n",
    "ax.set_yticklabels(ax.get_yticks(), weight='bold', fontsize=16)\n",
    "plt.show()\n"
   ]
  }
 ],
 "nbformat": 4,
 "nbformat_minor": 5,
 "metadata": {}
}
