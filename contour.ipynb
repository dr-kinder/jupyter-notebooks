{
 "cells": [
  {
   "cell_type": "markdown",
   "metadata": {},
   "source": [
    "# Sample Code\n",
    "\n",
    "Run this script. Edit it and make it your own."
   ]
  },
  {
   "cell_type": "code",
   "execution_count": null,
   "metadata": {},
   "outputs": [],
   "source": [
    "\n",
    "# contour.py\n",
    "# -------------------------------------------------------------------------\n",
    "# Create a labeled contour plot.\n",
    "# ------------------------------------------------------------------------- \n",
    "import numpy as np\n",
    "import matplotlib.pyplot as plt\n",
    "\n",
    "#%% Create a grid of x and y coordinates\n",
    "x_vals = np.linspace(-3, 3, 201)\n",
    "y_vals = np.linspace(0, 10, 101)\n",
    "X, Y = np.meshgrid(x_vals, y_vals)\n",
    "\n",
    "#%% Generate function values. \n",
    "Z = np.cos(X) * np.sin(Y)\n",
    "\n",
    "#%% Plot and label contours.\n",
    "plt.figure()\n",
    "cs = plt.contour(X, Y, Z, 10, linewidths=3, colors='k')\n",
    "plt.clabel(cs,fontsize=10)\n",
    "plt.show()\n"
   ]
  }
 ],
 "nbformat": 4,
 "nbformat_minor": 5,
 "metadata": {}
}
