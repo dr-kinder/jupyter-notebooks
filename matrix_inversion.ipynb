{
 "cells": [
  {
   "cell_type": "markdown",
   "metadata": {},
   "source": [
    "# Sample Code\n",
    "\n",
    "Run this script. Edit it and make it your own."
   ]
  },
  {
   "cell_type": "code",
   "execution_count": null,
   "metadata": {},
   "outputs": [],
   "source": [
    "\n",
    "# matrix_inversion.py\n",
    "# -------------------------------------------------------------------------\n",
    "# Invert a simple matrix to solve a system of linear equations.\n",
    "# ------------------------------------------------------------------------- \n",
    "import numpy as np\n",
    "from scipy.linalg import inv\n",
    "\n",
    "#%% Set up and solve C.x = a\n",
    "a = np.array([-1, 5])\n",
    "C = np.array([[1, 3], [3, 4]])\n",
    "x = np.dot(inv(C), a)\n",
    "\n",
    "#%% Check solution.\n",
    "error = np.dot(C,x) - a\n"
   ]
  }
 ],
 "nbformat": 4,
 "nbformat_minor": 5,
 "metadata": {}
}
