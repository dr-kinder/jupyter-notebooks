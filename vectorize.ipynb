{
 "cells": [
  {
   "cell_type": "markdown",
   "metadata": {},
   "source": [
    "# Sample Code\n",
    "\n",
    "Run this script. Edit it and make it your own."
   ]
  },
  {
   "cell_type": "code",
   "execution_count": null,
   "metadata": {},
   "outputs": [],
   "source": [
    "\n",
    "# vectorize.py\n",
    "# -------------------------------------------------------------------------\n",
    "# Use vectorized operations to generate multiple solutions to the\n",
    "# quadratic equation.\n",
    "# ------------------------------------------------------------------------- \n",
    "import numpy as np\n",
    "\n",
    "b, c = 2, -1\n",
    "a = np.arange(-1, 2, 0.3)\n",
    "x = (-b + np.sqrt(b**2 - 4*a*c)) / (2*a)\n"
   ]
  }
 ],
 "nbformat": 4,
 "nbformat_minor": 5,
 "metadata": {}
}
