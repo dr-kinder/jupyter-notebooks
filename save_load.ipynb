{
 "cells": [
  {
   "cell_type": "markdown",
   "metadata": {},
   "source": [
    "# Sample Code\n",
    "\n",
    "Run this script. Edit it and make it your own."
   ]
  },
  {
   "cell_type": "code",
   "execution_count": null,
   "metadata": {},
   "outputs": [],
   "source": [
    "\n",
    "# save_load.py\n",
    "# -------------------------------------------------------------------------\n",
    "# Save array data using NumPy's available methods, then load saved data.\n",
    "# ------------------------------------------------------------------------- \n",
    "import numpy as np\n",
    "\n",
    "# Generate array data.\n",
    "x = np.linspace(0, 1, 1001)\n",
    "y = 3*np.sin(x)**3 - np.sin(x)\n",
    "\n",
    "# Save data to text, .npy, and .npz files.\n",
    "np.save('x_values', x)\n",
    "np.save('y_values', y)\n",
    "np.savetxt('x_values.dat', x)\n",
    "np.savetxt('y_values.dat', y)\n",
    "np.savez('xy_values', x_vals=x, y_vals=y) \n",
    "\n",
    "# Load saved data.\n",
    "x2 = np.load('x_values.npy')\n",
    "y2 = np.loadtxt('y_values.dat')\n",
    "w = np.load('xy_values.npz')\n",
    "\n",
    "# Check equality of original and saved data.\n",
    "print((x2 == x).all())\n",
    "print((y2 == y).all())\n",
    "print((w['x_vals'] == x2).all())\n",
    "print((w['y_vals'] == y2).all())\n"
   ]
  }
 ],
 "nbformat": 4,
 "nbformat_minor": 5,
 "metadata": {}
}
