{
 "cells": [
  {
   "cell_type": "markdown",
   "metadata": {},
   "source": [
    "# Sample Code\n",
    "\n",
    "Run this script. Edit it and make it your own."
   ]
  },
  {
   "cell_type": "code",
   "execution_count": null,
   "metadata": {},
   "outputs": [],
   "source": [
    "\n",
    "# string_format.py\n",
    "# -------------------------------------------------------------------------\n",
    "# Illustrate formatting strings using the .format() method.\n",
    "# ------------------------------------------------------------------------- \n",
    "import numpy as np\n",
    "\n",
    "print(\"The value of pi is approximately \" + str(np.pi))\n",
    "print(\"The value of {} is approximately {:.5f}\".format('pi', np.pi))\n",
    "\n",
    "s = \"{1:d} plus {0:d} is {2:d}\"\n",
    "print(s.format(2,4,2+4))\n",
    "\n",
    "print(\"Every {2} has its {3}.\".format('dog','day','rose','thorn'))\n",
    "print(\"The third element of the list is {0[2]:g}.\".format(np.arange(10)))\n"
   ]
  }
 ],
 "nbformat": 4,
 "nbformat_minor": 5,
 "metadata": {}
}
