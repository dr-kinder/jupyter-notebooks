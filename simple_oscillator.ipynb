{
 "cells": [
  {
   "cell_type": "markdown",
   "metadata": {},
   "source": [
    "# Sample Code\n",
    "\n",
    "Run this script. Edit it and make it your own."
   ]
  },
  {
   "cell_type": "code",
   "execution_count": null,
   "metadata": {},
   "outputs": [],
   "source": [
    "\n",
    "# simple_oscillator.py\n",
    "# -------------------------------------------------------------------------\n",
    "# Define function to use in solution of differential equation for a simple\n",
    "# harmonic oscillator.\n",
    "# ------------------------------------------------------------------------- \n",
    "def F(y, t):\n",
    "    \"\"\"\n",
    "    Return derivatives for 2nd order ODE y'' = -y.\n",
    "    \"\"\"\n",
    "    dy = [0, 0]         # preallocate list to store derivatives\n",
    "    dy[0] = y[1]        # first derivative of y(t)\n",
    "    dy[1] = -y[0]       # second derivative of y(t)\n",
    "    return dy\n"
   ]
  }
 ],
 "nbformat": 4,
 "nbformat_minor": 5,
 "metadata": {}
}
