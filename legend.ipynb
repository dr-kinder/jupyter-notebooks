{
 "cells": [
  {
   "cell_type": "markdown",
   "metadata": {},
   "source": [
    "# Sample Code\n",
    "\n",
    "Run this script. Edit it and make it your own."
   ]
  },
  {
   "cell_type": "code",
   "execution_count": null,
   "metadata": {},
   "outputs": [],
   "source": [
    "\n",
    "# legend.py\n",
    "# -------------------------------------------------------------------------\n",
    "# Create a plot with a legend to distinguish multiple curves.\n",
    "# ------------------------------------------------------------------------- \n",
    "import numpy as np\n",
    "import matplotlib.pyplot as plt\n",
    "\n",
    "num_curves = 3\n",
    "x = np.linspace(0, 1, 201)\n",
    "y = np.zeros((x.size, num_curves))\n",
    "for n in range(num_curves):\n",
    "    y[:, n] = np.sin((n+1) * x * 2 * np.pi)\n",
    "\n",
    "plt.figure()\n",
    "plt.plot(x, y, linewidth=2)\n",
    "\n",
    "ax = plt.gca()\n",
    "ax.legend(  (\"sin(2$\\\\pi$x)\", \"sin(4$\\\\pi$x)\", \"sin(6$\\\\pi$x)\") )\n",
    "\n",
    "plt.show()\n"
   ]
  }
 ],
 "nbformat": 4,
 "nbformat_minor": 5,
 "metadata": {}
}
