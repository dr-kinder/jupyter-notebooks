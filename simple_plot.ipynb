{
 "cells": [
  {
   "cell_type": "markdown",
   "metadata": {},
   "source": [
    "# Sample Code\n",
    "\n",
    "Run this script. Edit it and make it your own."
   ]
  },
  {
   "cell_type": "code",
   "execution_count": null,
   "metadata": {},
   "outputs": [],
   "source": [
    "\n",
    "# simple_plot.py\n",
    "# -------------------------------------------------------------------------\n",
    "# Create and display a basic plot.\n",
    "# ------------------------------------------------------------------------- \n",
    "import numpy as np\n",
    "import matplotlib.pyplot as plt\n",
    "\n",
    "num_points = 26\n",
    "x_min, x_max = 0, 4\n",
    "\n",
    "x_values = np.linspace(x_min, x_max, num_points)\n",
    "y_values = x_values**2\n",
    "\n",
    "plt.figure()\n",
    "plt.plot(x_values, y_values)\n",
    "plt.show()\n"
   ]
  }
 ],
 "nbformat": 4,
 "nbformat_minor": 5,
 "metadata": {}
}
