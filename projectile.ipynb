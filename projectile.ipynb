{
 "cells": [
  {
   "cell_type": "markdown",
   "metadata": {},
   "source": [
    "# Sample Code\n",
    "\n",
    "Run this script. Edit it and make it your own."
   ]
  },
  {
   "cell_type": "code",
   "execution_count": null,
   "metadata": {},
   "outputs": [],
   "source": [
    "\n",
    "# projectile.py\n",
    "# -----------------------------------------------------------------------------\n",
    "# Calculate how long an object is in the air when thrown from a specified height\n",
    "# with a range of initial speeds assuming constant acceleration due to gravity:\n",
    "#   0.5 * g * t**2 - v0 * t - y0 = 0\n",
    "# ----------------------------------------------------------------------------- \n",
    "import numpy as np\n",
    "\n",
    "#%% Initialization of variables.\n",
    "initial_speed = 0.0         # v0 = initial vertical speed of ball in [m/s]\n",
    "impact_time = 0.0           # t = time of impact in [s] (computed in loop)\n",
    "\n",
    "#%% Initialization of parameters.\n",
    "g = 9.8066                  # gravitational acceleration in [m/s^2]\n",
    "initial_height = 2.0        # y0 = height ball is thrown from in [m]\n",
    "speed_increment = 5.0       # how much to increase speed in [m/s] for each iteration\n",
    "cutoff_time = 10.0          # stop computing after impact time exceeds cutoff\n",
    "\n",
    "#%% Calculate and display impact time.  Increment initial speed each step.\n",
    "#   Repeat until impact time exceeds cutoff.\n",
    "while impact_time < cutoff_time:\n",
    "    # Use quadratic equation to solve kinematic equation for impact time:\n",
    "    impact_time = (np.sqrt(initial_speed**2 + 2 * g * initial_height) + initial_speed) / g\n",
    "    print(\"speed= {} m/s; time= {:.1f} s\".format(initial_speed, impact_time))\n",
    "    initial_speed += speed_increment\n",
    "print(\"Calculation complete.\")\n"
   ]
  }
 ],
 "nbformat": 4,
 "nbformat_minor": 5,
 "metadata": {}
}
