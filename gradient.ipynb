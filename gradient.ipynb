{
 "cells": [
  {
   "cell_type": "markdown",
   "metadata": {},
   "source": [
    "# Sample Code\n",
    "\n",
    "Run this script. Edit it and make it your own."
   ]
  },
  {
   "cell_type": "code",
   "execution_count": null,
   "metadata": {},
   "outputs": [],
   "source": [
    "\n",
    "# gradient.py\n",
    "# -------------------------------------------------------------------------\n",
    "# Calculate and display the gradient of a two-dimensional Gaussian.\n",
    "# ------------------------------------------------------------------------- \n",
    "import numpy as np\n",
    "import matplotlib.pyplot as plt\n",
    "\n",
    "coords = np.linspace(-2, 2, 101)\n",
    "X, Y = np.meshgrid(coords[::5], coords[::5])    # coarse grid for vector field\n",
    "R = np.sqrt(X**2 + Y**2)\n",
    "Z = np.exp(-R**2)\n",
    "x, y = np.meshgrid(coords, coords)              # fine grid for contour plot\n",
    "r = np.sqrt(x**2 + y**2)\n",
    "z = np.exp(-r**2)\n",
    "\n",
    "ds = coords[5] - coords[0]                      # coarse grid spacing\n",
    "dX, dY = np.gradient(Z, ds)                     # calculate gradient\n",
    "\n",
    "plt.figure()\n",
    "plt.contourf(x, y, z, 25)                   \n",
    "plt.set_cmap('coolwarm')\n",
    "plt.quiver(X, Y, dX.transpose(), dY.transpose(), scale=25, color='k')\n",
    "plt.axis('tight')\n",
    "plt.axis('square')\n",
    "plt.show()\n"
   ]
  }
 ],
 "nbformat": 4,
 "nbformat_minor": 5,
 "metadata": {}
}
