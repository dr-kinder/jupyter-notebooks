{
 "cells": [
  {
   "cell_type": "markdown",
   "metadata": {},
   "source": [
    "# Sample Code\n",
    "\n",
    "Run this script. Edit it and make it your own."
   ]
  },
  {
   "cell_type": "code",
   "execution_count": null,
   "metadata": {},
   "outputs": [],
   "source": [
    "\n",
    "# solveODE.py\n",
    "# -----------------------------------------------------------------------------\n",
    "# Solution of ODE for harmonic oscillator.\n",
    "# ----------------------------------------------------------------------------- \n",
    "import numpy as np\n",
    "import matplotlib.pyplot as plt\n",
    "from scipy.integrate import odeint\n",
    "\n",
    "# Import function to integrate:\n",
    "from simple_oscillator import F\n",
    "\n",
    "# array of time values to study\n",
    "t_min = 0; t_max = 10; dt = 0.1\n",
    "t = np.arange(t_min, t_max+dt, dt)\n",
    "\n",
    "# two sets of initial conditions\n",
    "initial_conditions = [ (1.0, 0.0), (0.0, 1.0) ]\n",
    "\n",
    "plt.figure()    # Create figure; then, add plots.\n",
    "for y0 in initial_conditions:\n",
    "    y = odeint(F, y0, t)\n",
    "    plt.plot(t, y[:, 0], linewidth=2)\n",
    "\n",
    "skip = 5\n",
    "t_test = t[::skip]                          # compare at a subset of points\n",
    "plt.plot(t_test, np.cos(t_test), 'bo')      # exact solution for y0 = (1,0)\n",
    "plt.plot(t_test, np.sin(t_test), 'go')      # exact solution for y0 = (0,1)\n",
    "\n",
    "plt.show()\n"
   ]
  }
 ],
 "nbformat": 4,
 "nbformat_minor": 5,
 "metadata": {}
}
