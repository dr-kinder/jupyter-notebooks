{
 "cells": [
  {
   "cell_type": "markdown",
   "metadata": {},
   "source": [
    "# Sample Code\n",
    "\n",
    "Run this script. Edit it and make it your own."
   ]
  },
  {
   "cell_type": "code",
   "execution_count": null,
   "metadata": {},
   "outputs": [],
   "source": [
    "\n",
    "# line3d.py\n",
    "# -------------------------------------------------------------------------\n",
    "# Create a three-dimensional parametric plot.\n",
    "# ------------------------------------------------------------------------- \n",
    "import numpy as np\n",
    "import matplotlib.pyplot as plt\n",
    "from mpl_toolkits.mplot3d import Axes3D     # import 3D plotting tool\n",
    "\n",
    "fig = plt.figure()                  # create a new figure\n",
    "ax = Axes3D(fig)                    # create 3D plotting object attached to figure\n",
    "t = np.linspace(0, 5*np.pi, 501)    # define parameter for parametric plot\n",
    "\n",
    "ax.plot(t * np.cos(t), t * np.sin(t), t)        # generate 3D plot\n",
    "plt.show()\n"
   ]
  }
 ],
 "nbformat": 4,
 "nbformat_minor": 5,
 "metadata": {}
}
