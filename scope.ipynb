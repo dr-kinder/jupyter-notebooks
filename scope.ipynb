{
 "cells": [
  {
   "cell_type": "markdown",
   "metadata": {},
   "source": [
    "# Sample Code\n",
    "\n",
    "Run this script. Edit it and make it your own."
   ]
  },
  {
   "cell_type": "code",
   "execution_count": null,
   "metadata": {},
   "outputs": [],
   "source": [
    "\n",
    "# scope.py \n",
    "# -------------------------------------------------------------------------\n",
    "# Demonstrate Python's rules of scope.\n",
    "# ------------------------------------------------------------------------- \n",
    "\n",
    "def illustrate_scope():\n",
    "    s_enclosing = 'E'\n",
    "    def display():\n",
    "        s_local = 'L'\n",
    "        print( \"Local --> {}\".format(s_local) )\n",
    "        print( \"Enclosing --> {}\".format(s_enclosing) )\n",
    "        print( \"Global --> {}\".format(s_global) )\n",
    "        print( \"Built-in --> {}\".format(abs) )\n",
    "    display()\n",
    "\n",
    "s_global = 'G'\n",
    "\n",
    "illustrate_scope()\n"
   ]
  }
 ],
 "nbformat": 4,
 "nbformat_minor": 5,
 "metadata": {}
}
