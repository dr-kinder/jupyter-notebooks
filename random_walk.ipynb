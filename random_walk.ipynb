{
 "cells": [
  {
   "cell_type": "markdown",
   "metadata": {},
   "source": [
    "# Sample Code\n",
    "\n",
    "Run this script. Edit it and make it your own."
   ]
  },
  {
   "cell_type": "code",
   "execution_count": null,
   "metadata": {},
   "outputs": [],
   "source": [
    "\n",
    "# random_walk.py\n",
    "# -------------------------------------------------------------------------\n",
    "# Monte Carlo simulation of a two-dimensional random walk.\n",
    "# ------------------------------------------------------------------------- \n",
    "import numpy as np\n",
    "import matplotlib.pyplot as plt\n",
    "from numpy.random import random as rng\n",
    "\n",
    "num_steps = 500\n",
    "x_step = rng(num_steps) > 0.5\n",
    "y_step = rng(num_steps) > 0.5\n",
    "x_step = 2*x_step - 1\n",
    "y_step = 2*y_step - 1\n",
    "x_position = np.cumsum(x_step)\n",
    "y_position = np.cumsum(y_step)\n",
    "\n",
    "plt.figure()\n",
    "plt.plot(x_position, y_position)\n",
    "plt.axis('equal')\n",
    "\n",
    "# A more succinct alternative:\n",
    "x = ( 2*(rng(num_steps) > 0.5) - 1 ).cumsum()\n",
    "y = ( 2*(rng(num_steps) > 0.5) - 1 ).cumsum()\n",
    "\n",
    "plt.figure()\n",
    "plt.plot(x,y)\n",
    "plt.axis('equal')\n",
    "\n",
    "plt.show()\n"
   ]
  }
 ],
 "nbformat": 4,
 "nbformat_minor": 5,
 "metadata": {}
}
