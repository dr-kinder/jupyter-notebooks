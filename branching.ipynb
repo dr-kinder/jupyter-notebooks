{
 "cells": [
  {
   "cell_type": "markdown",
   "metadata": {},
   "source": [
    "# Sample Code\n",
    "\n",
    "Run this script. Edit it and make it your own."
   ]
  },
  {
   "cell_type": "code",
   "execution_count": null,
   "metadata": {},
   "outputs": [],
   "source": [
    "\n",
    "# branching.py\n",
    "# -----------------------------------------------------------------------------\n",
    "# This script illustrates branching.\n",
    "# ----------------------------------------------------------------------------- \n",
    "import numpy as np\n",
    "\n",
    "for trial in range(5):\n",
    "    userInput = input('Pick a number: ')\n",
    "    userNumber = float(userInput)\n",
    "    if userNumber < 0:\n",
    "        print('Square root is not real.')\n",
    "    else:\n",
    "        print('Square root of {} is {:.4f}.'.format(userNumber, np.sqrt(userNumber)))\n",
    "    userAgain = input('Another [y/n]? ')\n",
    "    if userAgain != 'y':\n",
    "        break\n",
    "\n",
    "if trial == 4:\n",
    "    print('Sorry, only 5 per customer.')\n",
    "elif userAgain == 'n':\n",
    "    print('Bye!')\n",
    "else:\n",
    "    print('Sorry, I did not understand that.')\n"
   ]
  }
 ],
 "nbformat": 4,
 "nbformat_minor": 5,
 "metadata": {}
}
