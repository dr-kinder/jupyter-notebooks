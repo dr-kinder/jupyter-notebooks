{
 "cells": [
  {
   "cell_type": "markdown",
   "metadata": {},
   "source": [
    "# Sample Code\n",
    "\n",
    "Run this script. Edit it and make it your own."
   ]
  },
  {
   "cell_type": "code",
   "execution_count": null,
   "metadata": {},
   "outputs": [],
   "source": [
    "\n",
    "# name_collision.py\n",
    "# -------------------------------------------------------------------------\n",
    "# Demonstrate how Python's rules of scope prevent name collisions.\n",
    "# ------------------------------------------------------------------------- \n",
    "\n",
    "def name_collisions():\n",
    "    x, y = 'E', 'E'\n",
    "    def display():\n",
    "        x = 'L'\n",
    "        print( \"Inside display() ...\" )\n",
    "        print( \"x= {}\\ny= {}\\nz= {}\".format(x,y,z) )\n",
    "    display()\n",
    "    print( \"Inside name_collision() ...\" )\n",
    "    print( \"x= {}\\ny= {}\\nz= {}\".format(x,y,z) )\n",
    "\n",
    "x, y, z = 'G', 'G', 'G'\n",
    "name_collisions()\n",
    "print( \"Outside function ...\" )\n",
    "print( \"x= {}\\ny= {}\\nz= {}\".format(x,y,z) )\n"
   ]
  }
 ],
 "nbformat": 4,
 "nbformat_minor": 5,
 "metadata": {}
}
