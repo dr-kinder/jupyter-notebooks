{
 "cells": [
  {
   "cell_type": "markdown",
   "metadata": {},
   "source": [
    "# Sample Code\n",
    "\n",
    "Run this script. Edit it and make it your own."
   ]
  },
  {
   "cell_type": "code",
   "execution_count": null,
   "metadata": {},
   "outputs": [],
   "source": [
    "\n",
    "# histogram.py\n",
    "# -------------------------------------------------------------------------\n",
    "# Create histograms of random numbers.\n",
    "# ------------------------------------------------------------------------- \n",
    "import numpy as np\n",
    "import matplotlib.pyplot as plt\n",
    "from numpy.random import random as rng\n",
    "\n",
    "#%% Generate data and view PyPlot's default histogram.\n",
    "data = rng(1000)\n",
    "\n",
    "plt.figure()\n",
    "plt.hist(data)\n",
    "\n",
    "#%% Get binned data from NumPy and make a colorful histogram where the\n",
    "#   width of each bin is proportional to the number of elements in it.\n",
    "counts, bin_edges = np.histogram(data)\n",
    "bin_size = bin_edges[1] - bin_edges[0]\n",
    "new_widths =  bin_size * counts / counts.max()\n",
    "\n",
    "plt.figure()\n",
    "plt.bar(bin_edges[:-1], counts, width=new_widths, color=['r','g','b'])\n",
    "\n",
    "#%% Provide logarithmically spaced bin edges rather than using defaults.\n",
    "log2bins = np.logspace(-8, 0, num=9, base=2)\n",
    "log2bins[0] = 0.0           # set first bin edge to zero instead of 1/256\n",
    "\n",
    "plt.figure()\n",
    "plt.hist(data, bins=log2bins)\n",
    "\n",
    "plt.show()\n"
   ]
  }
 ],
 "nbformat": 4,
 "nbformat_minor": 5,
 "metadata": {}
}
