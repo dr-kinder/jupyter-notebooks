{
 "cells": [
  {
   "cell_type": "markdown",
   "metadata": {},
   "source": [
    "# Sample Code\n",
    "\n",
    "Run this script. Edit it and make it your own."
   ]
  },
  {
   "cell_type": "code",
   "execution_count": null,
   "metadata": {},
   "outputs": [],
   "source": [
    "\n",
    "# surface.py\n",
    "# -------------------------------------------------------------------------\n",
    "# Create a three-dimensional surface plot.\n",
    "# ------------------------------------------------------------------------- \n",
    "import numpy as np\n",
    "import matplotlib.pyplot as plt\n",
    "from mpl_toolkits.mplot3d import Axes3D\n",
    "\n",
    "# define grid of points\n",
    "points = np.linspace(-1, 1, 101)\n",
    "X, Y = np.meshgrid(points, points)\n",
    "Z = X**2 + Y**2\n",
    "\n",
    "# create and display surface plot\n",
    "ax = Axes3D(plt.figure())\n",
    "ax.plot_surface(X, Y, Z)\n",
    "\n",
    "# Adjust rstride and cstride to use more or fewer points.\n",
    "# The following command will use all points in X, Y, and Z:\n",
    "# ax.plot_surface(X, Y, Z, rstride=1, cstride=1)\n",
    "\n",
    "plt.show()\n"
   ]
  }
 ],
 "nbformat": 4,
 "nbformat_minor": 5,
 "metadata": {}
}
