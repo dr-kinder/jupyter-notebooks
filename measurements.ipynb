{
 "cells": [
  {
   "cell_type": "markdown",
   "metadata": {},
   "source": [
    "# Sample Code\n",
    "\n",
    "Run this script. Edit it and make it your own."
   ]
  },
  {
   "cell_type": "code",
   "execution_count": null,
   "metadata": {},
   "outputs": [],
   "source": [
    "\n",
    "# measurements.py\n",
    "\"\"\"\n",
    "Functions to calculate distance between points using different metrics.\n",
    "\"\"\"\n",
    "import numpy as np\n",
    "\n",
    "def crow(pointA, pointB):\n",
    "    \"\"\"\n",
    "    Distance between points A and B \"as the crow flies.\"\n",
    "        pointA = (x1, y1)\n",
    "        pointB = (x2, y2)\n",
    "    returns sqrt( (x2-x1)**2 + (y2-y1)**2 )\n",
    "    \"\"\"\n",
    "    interval = np.sqrt( (pointA[0] - pointB[0])**2 + \\\n",
    "                        (pointA[1] - pointB[1])**2 )\n",
    "    return interval\n",
    "\n",
    "\n",
    "def taxicab(pointA, pointB):\n",
    "    \"\"\"\n",
    "    Distance between points A and B \"as the cab drives.\"\n",
    "        pointA = (x1, y1)\n",
    "        pointB = (x2, y2)\n",
    "    returns |x2-x1| + |y2-y1|\n",
    "    \"\"\"\n",
    "    interval =  abs(pointB[0] - pointA[0]) + \\\n",
    "                abs(pointB[1] - pointA[1])\n",
    "    return interval\n",
    "\n",
    "\n",
    "def distance(pointA, pointB=(0,0), metric='taxi'):\n",
    "    \"\"\"\n",
    "    Return distance between points A and B. If metric is 'taxi', use taxicab\n",
    "    metric. Otherwise, use Euclidean distance.\n",
    "        pointA = (x1, y1)\n",
    "        pointB = (x2, y2)\n",
    "    \"\"\"\n",
    "    if metric == 'taxi':\n",
    "        return taxicab(pointA, pointB)\n",
    "    else:\n",
    "        return crow(pointA, pointB)\n"
   ]
  }
 ],
 "nbformat": 4,
 "nbformat_minor": 5,
 "metadata": {}
}
