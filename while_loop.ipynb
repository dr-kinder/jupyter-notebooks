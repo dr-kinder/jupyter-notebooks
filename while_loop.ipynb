{
 "cells": [
  {
   "cell_type": "markdown",
   "metadata": {},
   "source": [
    "# Sample Code\n",
    "\n",
    "Run this script. Edit it and make it your own."
   ]
  },
  {
   "cell_type": "code",
   "execution_count": null,
   "metadata": {},
   "outputs": [],
   "source": [
    "\n",
    "# while_loop.py\n",
    "# -------------------------------------------------------------------------\n",
    "# Use a while loop to generate multiple solutions to the quadratic equation.\n",
    "# ------------------------------------------------------------------------- \n",
    "import numpy as np\n",
    "\n",
    "a, b, c = 2, 2, -1\n",
    "while (b**2 - 4*a*c >= 0):\n",
    "    x = (-b + np.sqrt(b**2 - 4*a*c)) / (2*a)\n",
    "    print(\"a = {:.4f}, x = {:.4f}\".format(a,x))\n",
    "    a = a - 0.3\n",
    "print(\"done!\")\n"
   ]
  }
 ],
 "nbformat": 4,
 "nbformat_minor": 5,
 "metadata": {}
}
