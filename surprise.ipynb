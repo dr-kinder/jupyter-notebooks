{
 "cells": [
  {
   "cell_type": "markdown",
   "metadata": {},
   "source": [
    "# Sample Code\n",
    "\n",
    "Run this script. Edit it and make it your own."
   ]
  },
  {
   "cell_type": "code",
   "execution_count": null,
   "metadata": {},
   "outputs": [],
   "source": [
    "\n",
    "# surprise.py\n",
    "# -------------------------------------------------------------------------\n",
    "# This script will create a familar but interesting image.\n",
    "# It may take about a minute to run.\n",
    "# ------------------------------------------------------------------------- \n",
    "import numpy as np\n",
    "import matplotlib.pyplot as plt\n",
    "\n",
    "# This determines the number of colors used in the plot.\n",
    "# The larger the value, the longer the script will take.\n",
    "max_iterations = 32\n",
    "\n",
    "# These parameters define the boundaries of the plot\n",
    "x_min, x_max = -2.5, 1.5\n",
    "y_min, y_max = -1.5, 1.5\n",
    "\n",
    "# This parameter controls the grid spacing.  A smaller value gives better\n",
    "# resolution, but the script will take longer to run.\n",
    "ds = 0.002\n",
    "\n",
    "X = np.arange(x_min, x_max + ds, ds)\n",
    "Y = np.arange(y_min, y_max + ds, ds)\n",
    "data = np.zeros( (X.size, Y.size), dtype='uint')\n",
    "\n",
    "for i in range(X.size):\n",
    "    for j in range(Y.size):\n",
    "        x0, y0 = X[i], Y[j]\n",
    "        x, y = x0, y0\n",
    "        count = 0\n",
    "        while count < max_iterations:\n",
    "            # Update x and y simultaneously.\n",
    "            x, y = (x0 + x*x - y*y, y0 + 2*x*y)\n",
    "            # Exit loop if (x,y) is too far from the origin.\n",
    "            if (x*x + y*y) > 4.0: break\n",
    "            count += 1\n",
    "        data[i, j] = max_iterations - count\n",
    "\n",
    "plt.imshow(data.transpose(), interpolation='nearest', cmap='jet')\n",
    "plt.axis('off')\n",
    "plt.show()\n"
   ]
  }
 ],
 "nbformat": 4,
 "nbformat_minor": 5,
 "metadata": {}
}
