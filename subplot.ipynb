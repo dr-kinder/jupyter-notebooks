{
 "cells": [
  {
   "cell_type": "markdown",
   "metadata": {},
   "source": [
    "# Sample Code\n",
    "\n",
    "Run this script. Edit it and make it your own."
   ]
  },
  {
   "cell_type": "code",
   "execution_count": null,
   "metadata": {},
   "outputs": [],
   "source": [
    "\n",
    "# subplot.py\n",
    "# -------------------------------------------------------------------------\n",
    "# Create four plots in the same figure using plt.subplot().\n",
    "# ------------------------------------------------------------------------- \n",
    "import numpy as np\n",
    "import matplotlib.pyplot as plt\n",
    "from numpy.random import random\n",
    "\n",
    "t = np.linspace(0, 1, 101)\n",
    "\n",
    "# Create figure.\n",
    "plt.figure()\n",
    "\n",
    "# Use plt.subplot to add subplots.\n",
    "plt.subplot(2, 2, 1); plt.hist(random(20))                     # Upper left\n",
    "plt.subplot(2, 2, 2); plt.plot(t, t**2, t, t**3 - t)           # Upper right\n",
    "plt.subplot(2, 2, 3); plt.plot(random(20), random(20), 'r*')   # Lower left\n",
    "plt.subplot(2, 2, 4); plt.plot(t*np.cos(10*t), t*np.sin(10*t)) # Lower right\n",
    "plt.suptitle(\"Data and Functions\")                             # Entire plot\n",
    "\n",
    "plt.show()\n"
   ]
  }
 ],
 "nbformat": 4,
 "nbformat_minor": 5,
 "metadata": {}
}
