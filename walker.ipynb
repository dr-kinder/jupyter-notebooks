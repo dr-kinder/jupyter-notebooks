{
 "cells": [
  {
   "cell_type": "markdown",
   "metadata": {},
   "source": [
    "# Sample Code\n",
    "\n",
    "Run this script. Edit it and make it your own."
   ]
  },
  {
   "cell_type": "code",
   "execution_count": null,
   "metadata": {},
   "outputs": [],
   "source": [
    "\n",
    "# walker.py\n",
    "# -----------------------------------------------------------------------------\n",
    "# Make a movie out of the steps of a two-dimensional random walk.\n",
    "# ----------------------------------------------------------------------------- \n",
    "import numpy as np\n",
    "import matplotlib.pyplot as plt\n",
    "from matplotlib import animation\n",
    "from numpy.random import random as rand\n",
    "\n",
    "# Set number of steps for each random walk.\n",
    "num_steps = 100\n",
    "\n",
    "# Create an empty figure of the desired size.\n",
    "bound = 20\n",
    "fig = plt.figure()      # must have figure object for movie\n",
    "ax = plt.axes(xlim=(-bound, bound), ylim=(-bound, bound))\n",
    "ax.set_aspect('equal')  # equal scaling for x and y axes\n",
    "\n",
    "# Create a line and a point with no data.  They will be updated during each\n",
    "# frame of the animation.\n",
    "(my_line,) = ax.plot([], [], lw=2)              # line to show path\n",
    "(my_point,) = ax.plot([], [], 'ro', ms=9)       # dot to show current position\n",
    "\n",
    "# Generate the random walk data.\n",
    "x_steps = 2*(rand(num_steps) < 0.5) - 1     # generate random steps +/- 1\n",
    "y_steps = 2*(rand(num_steps) < 0.5) - 1\n",
    "x_coordinate = x_steps.cumsum()             # sum steps to get position\n",
    "y_coordinate = y_steps.cumsum()\n",
    "\n",
    "# This function will generate each frame of the animation.\n",
    "# It adds all of the data through frame n to a line\n",
    "# and moves a point to the nth position of the walk.\n",
    "def get_step(n, x, y, this_line, this_point):\n",
    "    this_line.set_data(x[:n+1], y[:n+1])\n",
    "    this_point.set_data(x[n], y[n])\n",
    "\n",
    "# Call the animator and create the movie.\n",
    "my_movie = animation.FuncAnimation(fig, get_step, frames=num_steps, \\\n",
    "                    fargs=(x_coordinate,y_coordinate,my_line,my_point) )\n",
    "\n",
    "# Save the movie in the current directory.\n",
    "# *** THIS WILL CAUSE AN ERROR UNLESS FFMPEG OR MENCODER IS INSTALLED. ***\n",
    "my_movie.save('random_walk.mp4', fps=30)\n"
   ]
  }
 ],
 "nbformat": 4,
 "nbformat_minor": 5,
 "metadata": {}
}
