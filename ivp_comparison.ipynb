{
 "cells": [
  {
   "cell_type": "markdown",
   "metadata": {},
   "source": [
    "# Sample Code\n",
    "\n",
    "Run this script. Edit it and make it your own."
   ]
  },
  {
   "cell_type": "code",
   "execution_count": null,
   "metadata": {},
   "outputs": [],
   "source": [
    "\n",
    "# ivp_comparison.py\n",
    "# -------------------------------------------------------------------------\n",
    "# Compare different ODE solvers using solve_ivp.\n",
    "# ------------------------------------------------------------------------- \n",
    "import numpy as np, matplotlib.pyplot as plt\n",
    "from scipy.integrate import solve_ivp\n",
    "\n",
    "# Define ODE to integrate: simple harmonic oscillator.\n",
    "def f(t,y): return [ y[1], -y[0] ]\n",
    "\n",
    "# Define time interval.\n",
    "t_min = 0\n",
    "t_max = 10\n",
    "\n",
    "# Define initial conditions.\n",
    "y0 = [1.0, 0.0]\n",
    "\n",
    "# Integrate the ODE using defaults.\n",
    "result = solve_ivp(f, (t_min, t_max), y0)\n",
    "plt.plot(result.t, result.y[0], '^k', label='RK45')\n",
    "\n",
    "# Specify time series and use different solver.\n",
    "dt = 0.1\n",
    "t_vals = np.arange(t_min, t_max + dt, dt)\n",
    "\n",
    "result = solve_ivp(f, (t_min, t_max), y0, t_eval=t_vals, method='BDF')\n",
    "plt.plot(result.t, result.y[0], '.r', label='BDF')\n",
    "\n",
    "plt.legend()\n",
    "plt.show()\n"
   ]
  }
 ],
 "nbformat": 4,
 "nbformat_minor": 5,
 "metadata": {}
}
