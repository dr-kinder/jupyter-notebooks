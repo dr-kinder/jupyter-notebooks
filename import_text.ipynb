{
 "cells": [
  {
   "cell_type": "markdown",
   "metadata": {},
   "source": [
    "# Sample Code\n",
    "\n",
    "Run this script. Edit it and make it your own."
   ]
  },
  {
   "cell_type": "code",
   "execution_count": null,
   "metadata": {},
   "outputs": [],
   "source": [
    "\n",
    "# import_text.py\n",
    "# -------------------------------------------------------------------------\n",
    "# Load data from a text file by reading the file line by line.\n",
    "# This script requires the data set 01HIVseries/HIVseries.csv.\n",
    "# ------------------------------------------------------------------------- \n",
    "import numpy as np\n",
    "\n",
    "f = open(\"HIVseries.csv\")\n",
    "temp_data = []\n",
    "\n",
    "for line in f:\n",
    "    print(line)\n",
    "    x,y = line.split(',')\n",
    "    temp_data += [ (float(x), float(y)) ]\n",
    "\n",
    "f.close()\n",
    "\n",
    "data_set = np.array(temp_data)\n"
   ]
  }
 ],
 "nbformat": 4,
 "nbformat_minor": 5,
 "metadata": {}
}
